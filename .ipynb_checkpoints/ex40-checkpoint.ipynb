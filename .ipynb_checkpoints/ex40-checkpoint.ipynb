{
 "cells": [
  {
   "cell_type": "code",
   "execution_count": 1,
   "metadata": {},
   "outputs": [
    {
     "name": "stdout",
     "output_type": "stream",
     "text": [
      "State? (ENTER to quit)>CA\n",
      "San Francisco\n",
      "State? (ENTER to quit)>SW\n",
      "Not found.\n",
      "State? (ENTER to quit)>MI\n",
      "Detroit\n",
      "State? (ENTER to quit)>FL\n",
      "Jacksonville\n",
      "State? (ENTER to quit)>\n"
     ]
    }
   ],
   "source": [
    "cities = {\"CA\":\"San Francisco\", \"MI\":\"Detroit\", \"FL\": \"Jacksonville\"}\n",
    "cities[\"NY\"] = \"New York\"\n",
    "cities[\"OR\"] = \"Portland\"\n",
    "\n",
    "def find_city(themap, state):\n",
    "    if state in themap:\n",
    "        return themap[state]\n",
    "    else:\n",
    "        return \"Not found.\"\n",
    "    \n",
    "cities[\"_find\"] = find_city\n",
    "\n",
    "while True:\n",
    "    print(\"State? (ENTER to quit)\", end = \"\")\n",
    "    state = input(\">\")\n",
    "    if not state:break\n",
    "        \n",
    "    city_found = cities[\"_find\"](cities, state)\n",
    "    print(city_found)"
   ]
  },
  {
   "cell_type": "code",
   "execution_count": null,
   "metadata": {},
   "outputs": [],
   "source": []
  }
 ],
 "metadata": {
  "kernelspec": {
   "display_name": "Python 3",
   "language": "python",
   "name": "python3"
  },
  "language_info": {
   "codemirror_mode": {
    "name": "ipython",
    "version": 3
   },
   "file_extension": ".py",
   "mimetype": "text/x-python",
   "name": "python",
   "nbconvert_exporter": "python",
   "pygments_lexer": "ipython3",
   "version": "3.7.4"
  }
 },
 "nbformat": 4,
 "nbformat_minor": 2
}
