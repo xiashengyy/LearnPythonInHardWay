{
 "cells": [
  {
   "cell_type": "code",
   "execution_count": null,
   "metadata": {},
   "outputs": [],
   "source": [
    "from sys import argv\n",
    "script, user_name = argv\n",
    "prompt = \">\"\n",
    "\n",
    "print(\"Hi %s, I'm the %s script.\" % (user_name, script))\n",
    "print(\"I'd like to ask you a few questions.\")\n",
    "print(\"Do you like me %s?\" % user_name)\n",
    "likes = input(prompt)\n",
    "\n",
    "print(\"Where do you live %s?\" % user_name)\n",
    "lives = input(prompt)\n",
    "\n",
    "print(\"What kind of computer do you have?\")\n",
    "computer = input(prompt)\n",
    "\n",
    "print(\"\"\"\n",
    "Alright, so you said %r about liking me.\n",
    "You live in %r. Not sure where that is.\n",
    "And you have a %r computer. Nice.\n",
    "\"\"\" % (likes, lives, computer))"
   ]
  }
 ],
 "metadata": {
  "kernelspec": {
   "display_name": "Python 3",
   "language": "python",
   "name": "python3"
  },
  "language_info": {
   "codemirror_mode": {
    "name": "ipython",
    "version": 3
   },
   "file_extension": ".py",
   "mimetype": "text/x-python",
   "name": "python",
   "nbconvert_exporter": "python",
   "pygments_lexer": "ipython3",
   "version": "3.7.4"
  }
 },
 "nbformat": 4,
 "nbformat_minor": 2
}
