{
 "cells": [
  {
   "cell_type": "code",
   "execution_count": 2,
   "metadata": {},
   "outputs": [
    {
     "name": "stdout",
     "output_type": "stream",
     "text": [
      "Too many cats!The world is doomed!\n",
      "The world is dry!\n",
      "People are greater than or equal to dogs.\n",
      "People are less than or rqual to dogs.\n",
      "People are dogs.\n"
     ]
    }
   ],
   "source": [
    "people = 20\n",
    "cats = 30\n",
    "dogs = 15\n",
    "\n",
    "if people < cats:\n",
    "    print(\"Too many cats!The world is doomed!\")\n",
    "    \n",
    "if people > cats:\n",
    "    print(\"Not many cats!The world is dsaved!\")\n",
    "    \n",
    "if people < dogs:\n",
    "    print(\"The world is drooled on!\")\n",
    "    \n",
    "if people > dogs:\n",
    "    print(\"The world is dry!\")\n",
    "    \n",
    "dogs += 5\n",
    "\n",
    "if people >= dogs:\n",
    "    print(\"People are greater than or equal to dogs.\")\n",
    "    \n",
    "if people <= dogs:\n",
    "    print(\"People are less than or rqual to dogs.\")\n",
    "    \n",
    "if people == dogs:\n",
    "    print(\"People are dogs.\")"
   ]
  },
  {
   "cell_type": "code",
   "execution_count": 3,
   "metadata": {},
   "outputs": [
    {
     "name": "stdout",
     "output_type": "stream",
     "text": [
      "We should take the cars.\n",
      "Maybe we take the buses.\n",
      "Alright, let's just take the buses.\n"
     ]
    }
   ],
   "source": [
    "people = 30\n",
    "cars = 40\n",
    "buses = 15\n",
    "\n",
    "if cars > people:\n",
    "    print(\"We should take the cars.\")\n",
    "elif cars < people:\n",
    "    print(\"We should not take the cars.\")\n",
    "else:\n",
    "    print(\"We can't decide.\")\n",
    "    \n",
    "if buses > cars:\n",
    "    print(\"That's too many buses.\")\n",
    "elif buses < cars:\n",
    "    print(\"Maybe we take the buses.\")\n",
    "else:\n",
    "    print(\"We still can't decide.\")\n",
    "    \n",
    "if people > buses:\n",
    "    print(\"Alright, let's just take the buses.\")\n",
    "else:\n",
    "    print(\"Fine, let's stay home then\")"
   ]
  },
  {
   "cell_type": "code",
   "execution_count": 9,
   "metadata": {},
   "outputs": [
    {
     "name": "stdout",
     "output_type": "stream",
     "text": [
      "You enter a dark room with two door.Do you go through door #1 or door #2?\n",
      ">1\n",
      "There's a giant bear here eating a cheese cake. What do you do?\n",
      "1.Take the cake.\n",
      "2.Scream at the beat.\n",
      ">apples\n",
      "Well, doing apples is probably better. Bear runs away.\n"
     ]
    }
   ],
   "source": [
    "print(\"You enter a dark room with two door.Do you go through door #1 or door #2?\")\n",
    "\n",
    "door = input(\">\")\n",
    "\n",
    "if door == \"1\":\n",
    "    print(\"There's a giant bear here eating a cheese cake. What do you do?\")\n",
    "    print(\"1.Take the cake.\")\n",
    "    print(\"2.Scream at the beat.\")\n",
    "    \n",
    "    bear = input(\">\")\n",
    "    \n",
    "    if bear == \"1\":\n",
    "        print(\"The bear eats your face off. Good jobs!\")\n",
    "    elif bear == \"2\":\n",
    "        print(\"The bear eats your legs off. Good jobs!\")\n",
    "    else:\n",
    "        print(\"Well, doing %s is probably better. Bear runs away.\" % bear)\n",
    "        \n",
    "elif door == \"2\":\n",
    "    print(\"You stare into the endless abyss at Cthulhu's retina.\")\n",
    "    print(\"1.Blueberries.\")\n",
    "    print(\"2.Yellow jacket clothespins.\")\n",
    "    print(\"3.Understanding revolvers yelling melodies.\")\n",
    "    \n",
    "    insanity = input(\">\")\n",
    "    \n",
    "    if insanity == \"1\" or insanity == \"2\":\n",
    "        print(\"Your body survives powered by a mind of jello. Good job!\")\n",
    "    else:\n",
    "        print(\"The insanity rots your eyes into a pool of muck. Good job!\")\n",
    "        \n",
    "else:\n",
    "    print(\"You stumble around an fall on a knife and die. Good job!\")"
   ]
  },
  {
   "cell_type": "code",
   "execution_count": 10,
   "metadata": {},
   "outputs": [
    {
     "name": "stdout",
     "output_type": "stream",
     "text": [
      "This is count 1\n",
      "This is count 2\n",
      "This is count 3\n",
      "This is count 4\n",
      "This is count 5\n",
      "A fruit of type:apples\n",
      "A fruit of type:oranges\n",
      "A fruit of type:pears\n",
      "A fruit of type:apricots\n",
      "I got 1\n",
      "I got 'pennies'\n",
      "I got 2\n",
      "I got 'dimes'\n",
      "I got 3\n",
      "I got 'quarters'\n",
      "Adding 0 to the list.\n",
      "Adding 1 to the list.\n",
      "Adding 2 to the list.\n",
      "Adding 3 to the list.\n",
      "Adding 4 to the list.\n",
      "Adding 5 to the list.\n",
      "Element was: 0\n",
      "Element was: 1\n",
      "Element was: 2\n",
      "Element was: 3\n",
      "Element was: 4\n",
      "Element was: 5\n"
     ]
    }
   ],
   "source": [
    "the_count = [1, 2, 3, 4, 5]\n",
    "fruits = ['apples', 'oranges', 'pears', 'apricots']\n",
    "change = [1, 'pennies', 2, 'dimes', 3, 'quarters']\n",
    "\n",
    "for number in the_count:\n",
    "    print(\"This is count %d\" % number)\n",
    "    \n",
    "for fruit in fruits:\n",
    "    print(\"A fruit of type:%s\" % fruit)\n",
    "    \n",
    "for i in change:\n",
    "    print(\"I got %r\" % i)\n",
    "    \n",
    "elements = []\n",
    "\n",
    "for i in range(0,6):\n",
    "    print(\"Adding %d to the list.\" % i)\n",
    "    elements.append(i)\n",
    "    \n",
    "for i in elements:\n",
    "    print(\"Element was: %d\" % i)"
   ]
  },
  {
   "cell_type": "code",
   "execution_count": null,
   "metadata": {},
   "outputs": [],
   "source": [
    "i = 0\n",
    "numbers = []\n",
    "\n",
    "while i < 6:\n",
    "    print(\"At the top i is %d\" % i)\n",
    "    numbers.append(i)\n",
    "    i += 1\n",
    "    print(\"Numbers now:\", numbers)\n",
    "    print(\"At the bottom i is %d\" % i)\n",
    "    \n",
    "print(\"The numbers:\")\n",
    "for num in numbers:\n",
    "    print(num)"
   ]
  }
 ],
 "metadata": {
  "kernelspec": {
   "display_name": "Python 3",
   "language": "python",
   "name": "python3"
  },
  "language_info": {
   "codemirror_mode": {
    "name": "ipython",
    "version": 3
   },
   "file_extension": ".py",
   "mimetype": "text/x-python",
   "name": "python",
   "nbconvert_exporter": "python",
   "pygments_lexer": "ipython3",
   "version": "3.7.4"
  }
 },
 "nbformat": 4,
 "nbformat_minor": 2
}
