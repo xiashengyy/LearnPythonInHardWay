{
 "cells": [
  {
   "cell_type": "code",
   "execution_count": null,
   "metadata": {},
   "outputs": [],
   "source": [
    "from sys import argv\n",
    "script, filename = argv\n",
    "txt = open(filename)\n",
    "print(\"Here's your file %r:\" % filename)\n",
    "print(txt.read())\n",
    "print(\"Type the filename again:\")\n",
    "file_again = input(\">\")\n",
    "txt_again = open(file_again)\n",
    "print(txt_again.read())\n",
    "txt_again.close()"
   ]
  }
 ],
 "metadata": {
  "kernelspec": {
   "display_name": "Python 3",
   "language": "python",
   "name": "python3"
  },
  "language_info": {
   "codemirror_mode": {
    "name": "ipython",
    "version": 3
   },
   "file_extension": ".py",
   "mimetype": "text/x-python",
   "name": "python",
   "nbconvert_exporter": "python",
   "pygments_lexer": "ipython3",
   "version": "3.7.4"
  }
 },
 "nbformat": 4,
 "nbformat_minor": 2
}
