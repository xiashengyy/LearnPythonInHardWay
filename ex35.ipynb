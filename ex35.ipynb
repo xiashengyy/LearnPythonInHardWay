{
 "cells": [
  {
   "cell_type": "code",
   "execution_count": 1,
   "metadata": {},
   "outputs": [
    {
     "name": "stdout",
     "output_type": "stream",
     "text": [
      "You are in a dark room.\n",
      "There is a door to you right and left.\n",
      "Which on do you take?\n",
      ">left\n",
      "There is a bear here.\n",
      "The bear has a bunch of honey.\n",
      "The fat neat is in front of another door.\n",
      "How are you going to move the beat?\n",
      ">taunt bear\n",
      "The bear has moved from the door. You can go through it now.\n",
      ">open door\n",
      "This room is full of gold. How much do you take?\n",
      "> 49\n",
      "Man, learn to type a number. Good job!\n"
     ]
    },
    {
     "ename": "SystemExit",
     "evalue": "0",
     "output_type": "error",
     "traceback": [
      "An exception has occurred, use %tb to see the full traceback.\n",
      "\u001b[1;31mSystemExit\u001b[0m\u001b[1;31m:\u001b[0m 0\n"
     ]
    },
    {
     "name": "stderr",
     "output_type": "stream",
     "text": [
      "E:\\program\\tools\\anaconda\\lib\\site-packages\\IPython\\core\\interactiveshell.py:3334: UserWarning: To exit: use 'exit', 'quit', or Ctrl-D.\n",
      "  warn(\"To exit: use 'exit', 'quit', or Ctrl-D.\", stacklevel=1)\n"
     ]
    }
   ],
   "source": [
    "from sys import exit\n",
    "\n",
    "def gold_room():\n",
    "    print(\"This room is full of gold. How much do you take?\")\n",
    "    \n",
    "    next = input(\">\")\n",
    "    if (\"0\" in next) or (\"1\" in next):\n",
    "        how_much = int(next)\n",
    "    else:\n",
    "        dead(\"Man, learn to type a number.\")\n",
    "        \n",
    "    if how_much < 50:\n",
    "        print(\"Nice, you're not greedy, you win!\")\n",
    "        exit(0)\n",
    "    else:\n",
    "        dead(\"You greedy bastarted!\")\n",
    "        \n",
    "def bear_room():\n",
    "    print(\"There is a bear here.\")\n",
    "    print(\"The bear has a bunch of honey.\")\n",
    "    print(\"The fat neat is in front of another door.\")\n",
    "    print(\"How are you going to move the beat?\")\n",
    "    bear_moved = False\n",
    "    \n",
    "    while True:\n",
    "        next = input(\">\")\n",
    "        \n",
    "        if next == \"take money\":\n",
    "            dead(\"The bear looks at you then slaps your face off.\")\n",
    "        elif ((next == \"taunt bear\") and (not bear_moved)):\n",
    "            print(\"The bear has moved from the door. You can go through it now.\")\n",
    "            bear_moved = True\n",
    "        elif (next == \"taunt bear\") and bear_moved:\n",
    "            dead(\"The bear gets pissed off and chews you legs off.\")\n",
    "        elif (next == \"open door\") and bear_moved:\n",
    "            gold_room()\n",
    "        else:\n",
    "            print(\"I got no idea what that means.end!\")\n",
    "            \n",
    "def cthulhu_room():\n",
    "    print(\"Here you see the great evil Cthulhu.\")\n",
    "    print(\"He,it,whatever stares at you anf you go insane.\")\n",
    "    print(\"Do you flee for your life or eat your head?\")\n",
    "    \n",
    "    next = input(\">\")\n",
    "    \n",
    "    if \"flee\" in next:\n",
    "        start()\n",
    "    elif \"head\" in next:\n",
    "        dead(\"Well that wa tasty!\")\n",
    "    else:\n",
    "        cthulhu_room()\n",
    "        \n",
    "        \n",
    "def dead(why):\n",
    "    print(why, \"Good job!\")\n",
    "    exit(0)\n",
    "    \n",
    "def start():\n",
    "    print(\"You are in a dark room.\")\n",
    "    print(\"There is a door to you right and left.\")\n",
    "    print(\"Which on do you take?\")\n",
    "    \n",
    "    next = input(\">\")\n",
    "    \n",
    "    if next == \"left\":\n",
    "        bear_room()\n",
    "    elif next == \"right\":\n",
    "        cthulhu_room()\n",
    "    else:\n",
    "        dead(\"You stumble around the room until you starve\")\n",
    "        \n",
    "start()"
   ]
  },
  {
   "cell_type": "code",
   "execution_count": null,
   "metadata": {},
   "outputs": [],
   "source": []
  }
 ],
 "metadata": {
  "kernelspec": {
   "display_name": "Python 3",
   "language": "python",
   "name": "python3"
  },
  "language_info": {
   "codemirror_mode": {
    "name": "ipython",
    "version": 3
   },
   "file_extension": ".py",
   "mimetype": "text/x-python",
   "name": "python",
   "nbconvert_exporter": "python",
   "pygments_lexer": "ipython3",
   "version": "3.7.4"
  }
 },
 "nbformat": 4,
 "nbformat_minor": 2
}
