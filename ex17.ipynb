{
 "cells": [
  {
   "cell_type": "code",
   "execution_count": null,
   "metadata": {},
   "outputs": [],
   "source": [
    "from sys import argv\n",
    "from os.path import exists\n",
    "\n",
    "script, from_file, to_file = argv\n",
    "\n",
    "print(\"Copying from %s to %s\" % (from_file, to_file))\n",
    "inputFile = open(from_file) \n",
    "indata = inputFile.read()\n",
    "\n",
    "print(\"The input file is %d bytes long\" % len(indata))\n",
    "print(\"Does the output file exist? %r\" % exists(to_file))\n",
    "print(\"Ready, hit RETURN to continue, CTRL-C to abort.\")\n",
    "input()\n",
    "\n",
    "outputFile = open(to_file, 'w')\n",
    "outputFile.write(indata)\n",
    "print(\"Alright, all done.\")\n",
    "\n",
    "outputFile.close()\n",
    "inputFile.close()"
   ]
  }
 ],
 "metadata": {
  "kernelspec": {
   "display_name": "Python 3",
   "language": "python",
   "name": "python3"
  },
  "language_info": {
   "codemirror_mode": {
    "name": "ipython",
    "version": 3
   },
   "file_extension": ".py",
   "mimetype": "text/x-python",
   "name": "python",
   "nbconvert_exporter": "python",
   "pygments_lexer": "ipython3",
   "version": "3.7.4"
  }
 },
 "nbformat": 4,
 "nbformat_minor": 2
}
